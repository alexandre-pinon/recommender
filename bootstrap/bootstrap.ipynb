{
 "cells": [
  {
   "cell_type": "markdown",
   "metadata": {},
   "source": [
    "# Bootstrap\n",
    "\n",
    "# SURVIVE THE TITANIC\n",
    "\n",
    "Given a table of boat’s passengers, named titanic.csv, you are about to find out what could have possibly\n",
    "happened in the early morning hours of 15 April 1912."
   ]
  },
  {
   "cell_type": "markdown",
   "metadata": {},
   "source": [
    "## GETTING THE DATAFRAMES"
   ]
  },
  {
   "cell_type": "code",
   "execution_count": 183,
   "metadata": {},
   "outputs": [],
   "source": [
    "import numpy as np\n",
    "import pandas as pd"
   ]
  },
  {
   "cell_type": "code",
   "execution_count": 184,
   "metadata": {},
   "outputs": [
    {
     "data": {
      "text/html": [
       "<div>\n",
       "<style scoped>\n",
       "    .dataframe tbody tr th:only-of-type {\n",
       "        vertical-align: middle;\n",
       "    }\n",
       "\n",
       "    .dataframe tbody tr th {\n",
       "        vertical-align: top;\n",
       "    }\n",
       "\n",
       "    .dataframe thead th {\n",
       "        text-align: right;\n",
       "    }\n",
       "</style>\n",
       "<table border=\"1\" class=\"dataframe\">\n",
       "  <thead>\n",
       "    <tr style=\"text-align: right;\">\n",
       "      <th></th>\n",
       "      <th>pclass</th>\n",
       "      <th>survived</th>\n",
       "      <th>name</th>\n",
       "      <th>sex</th>\n",
       "      <th>age</th>\n",
       "      <th>sibsp</th>\n",
       "      <th>parch</th>\n",
       "      <th>ticket</th>\n",
       "      <th>fare</th>\n",
       "      <th>cabin</th>\n",
       "      <th>embarked</th>\n",
       "      <th>boat</th>\n",
       "      <th>body</th>\n",
       "      <th>home.dest</th>\n",
       "    </tr>\n",
       "  </thead>\n",
       "  <tbody>\n",
       "    <tr>\n",
       "      <th>0</th>\n",
       "      <td>1</td>\n",
       "      <td>1</td>\n",
       "      <td>Allen, Miss. Elisabeth Walton</td>\n",
       "      <td>female</td>\n",
       "      <td>29.0000</td>\n",
       "      <td>0</td>\n",
       "      <td>0</td>\n",
       "      <td>24160</td>\n",
       "      <td>211.3375</td>\n",
       "      <td>B5</td>\n",
       "      <td>S</td>\n",
       "      <td>2</td>\n",
       "      <td>NaN</td>\n",
       "      <td>St Louis, MO</td>\n",
       "    </tr>\n",
       "    <tr>\n",
       "      <th>1</th>\n",
       "      <td>1</td>\n",
       "      <td>1</td>\n",
       "      <td>Allison, Master. Hudson Trevor</td>\n",
       "      <td>male</td>\n",
       "      <td>0.9167</td>\n",
       "      <td>1</td>\n",
       "      <td>2</td>\n",
       "      <td>113781</td>\n",
       "      <td>151.5500</td>\n",
       "      <td>C22 C26</td>\n",
       "      <td>S</td>\n",
       "      <td>11</td>\n",
       "      <td>NaN</td>\n",
       "      <td>Montreal, PQ / Chesterville, ON</td>\n",
       "    </tr>\n",
       "    <tr>\n",
       "      <th>2</th>\n",
       "      <td>1</td>\n",
       "      <td>0</td>\n",
       "      <td>Allison, Miss. Helen Loraine</td>\n",
       "      <td>female</td>\n",
       "      <td>2.0000</td>\n",
       "      <td>1</td>\n",
       "      <td>2</td>\n",
       "      <td>113781</td>\n",
       "      <td>151.5500</td>\n",
       "      <td>C22 C26</td>\n",
       "      <td>S</td>\n",
       "      <td>NaN</td>\n",
       "      <td>NaN</td>\n",
       "      <td>Montreal, PQ / Chesterville, ON</td>\n",
       "    </tr>\n",
       "    <tr>\n",
       "      <th>3</th>\n",
       "      <td>1</td>\n",
       "      <td>0</td>\n",
       "      <td>Allison, Mr. Hudson Joshua Creighton</td>\n",
       "      <td>male</td>\n",
       "      <td>30.0000</td>\n",
       "      <td>1</td>\n",
       "      <td>2</td>\n",
       "      <td>113781</td>\n",
       "      <td>151.5500</td>\n",
       "      <td>C22 C26</td>\n",
       "      <td>S</td>\n",
       "      <td>NaN</td>\n",
       "      <td>135.0</td>\n",
       "      <td>Montreal, PQ / Chesterville, ON</td>\n",
       "    </tr>\n",
       "    <tr>\n",
       "      <th>4</th>\n",
       "      <td>1</td>\n",
       "      <td>0</td>\n",
       "      <td>Allison, Mrs. Hudson J C (Bessie Waldo Daniels)</td>\n",
       "      <td>female</td>\n",
       "      <td>25.0000</td>\n",
       "      <td>1</td>\n",
       "      <td>2</td>\n",
       "      <td>113781</td>\n",
       "      <td>151.5500</td>\n",
       "      <td>C22 C26</td>\n",
       "      <td>S</td>\n",
       "      <td>NaN</td>\n",
       "      <td>NaN</td>\n",
       "      <td>Montreal, PQ / Chesterville, ON</td>\n",
       "    </tr>\n",
       "  </tbody>\n",
       "</table>\n",
       "</div>"
      ],
      "text/plain": [
       "   pclass  survived                                             name     sex  \\\n",
       "0       1         1                    Allen, Miss. Elisabeth Walton  female   \n",
       "1       1         1                   Allison, Master. Hudson Trevor    male   \n",
       "2       1         0                     Allison, Miss. Helen Loraine  female   \n",
       "3       1         0             Allison, Mr. Hudson Joshua Creighton    male   \n",
       "4       1         0  Allison, Mrs. Hudson J C (Bessie Waldo Daniels)  female   \n",
       "\n",
       "       age  sibsp  parch  ticket      fare    cabin embarked boat   body  \\\n",
       "0  29.0000      0      0   24160  211.3375       B5        S    2    NaN   \n",
       "1   0.9167      1      2  113781  151.5500  C22 C26        S   11    NaN   \n",
       "2   2.0000      1      2  113781  151.5500  C22 C26        S  NaN    NaN   \n",
       "3  30.0000      1      2  113781  151.5500  C22 C26        S  NaN  135.0   \n",
       "4  25.0000      1      2  113781  151.5500  C22 C26        S  NaN    NaN   \n",
       "\n",
       "                         home.dest  \n",
       "0                     St Louis, MO  \n",
       "1  Montreal, PQ / Chesterville, ON  \n",
       "2  Montreal, PQ / Chesterville, ON  \n",
       "3  Montreal, PQ / Chesterville, ON  \n",
       "4  Montreal, PQ / Chesterville, ON  "
      ]
     },
     "execution_count": 184,
     "metadata": {},
     "output_type": "execute_result"
    }
   ],
   "source": [
    "df = pd.read_csv('./titanic.csv')\n",
    "df.head()"
   ]
  },
  {
   "cell_type": "code",
   "execution_count": 185,
   "metadata": {},
   "outputs": [
    {
     "data": {
      "text/plain": [
       "non-null    1046\n",
       "null         263\n",
       "Name: age, dtype: int64"
      ]
     },
     "execution_count": 185,
     "metadata": {},
     "output_type": "execute_result"
    }
   ],
   "source": [
    "df['age'].isna().map(lambda x: 'null' if x else 'non-null').value_counts()"
   ]
  },
  {
   "cell_type": "markdown",
   "metadata": {},
   "source": [
    "## EXTRACTING STATISTICS"
   ]
  },
  {
   "cell_type": "code",
   "execution_count": 186,
   "metadata": {},
   "outputs": [],
   "source": [
    "df_survived = df[df['survived'] == 1]"
   ]
  },
  {
   "cell_type": "code",
   "execution_count": 187,
   "metadata": {},
   "outputs": [
    {
     "data": {
      "text/plain": [
       "total    500.000000\n",
       "age       28.918228\n",
       "fare      49.361184\n",
       "dtype: float64"
      ]
     },
     "execution_count": 187,
     "metadata": {},
     "output_type": "execute_result"
    }
   ],
   "source": [
    "survived_stats = pd.Series({\n",
    "  \"total\": df_survived.shape[0],\n",
    "  \"age\": df_survived['age'].mean(),\n",
    "  \"fare\": df_survived['fare'].mean(),\n",
    "})\n",
    "survived_stats"
   ]
  },
  {
   "cell_type": "markdown",
   "metadata": {},
   "source": [
    "## GROUPS ALONG CHARACTERISTICS"
   ]
  },
  {
   "cell_type": "code",
   "execution_count": 188,
   "metadata": {},
   "outputs": [
    {
     "data": {
      "text/plain": [
       "1    61.9%\n",
       "2    43.0%\n",
       "3    25.5%\n",
       "Name: pclass, dtype: object"
      ]
     },
     "execution_count": 188,
     "metadata": {},
     "output_type": "execute_result"
    }
   ],
   "source": [
    "pclass_survive_prob = pd.Series({c: f\"{df[df['pclass'] == c]['survived'].mean():.1%}\" for c in df['pclass'].unique()})\n",
    "pclass_survive_prob.name = \"pclass\"\n",
    "pclass_survive_prob"
   ]
  },
  {
   "cell_type": "code",
   "execution_count": 189,
   "metadata": {},
   "outputs": [
    {
     "data": {
      "text/plain": [
       "female    72.7%\n",
       "male      19.1%\n",
       "Name: sex, dtype: object"
      ]
     },
     "execution_count": 189,
     "metadata": {},
     "output_type": "execute_result"
    }
   ],
   "source": [
    "sex_survive_prob = pd.Series({s: f\"{df[df['sex'] == s]['survived'].mean():.1%}\" for s in df['sex'].unique()})\n",
    "sex_survive_prob.name = \"sex\"\n",
    "sex_survive_prob"
   ]
  },
  {
   "cell_type": "code",
   "execution_count": 190,
   "metadata": {},
   "outputs": [
    {
     "data": {
      "text/plain": [
       "(0.1667, 80.0)"
      ]
     },
     "execution_count": 190,
     "metadata": {},
     "output_type": "execute_result"
    }
   ],
   "source": [
    "df['age'].min(), df['age'].max()"
   ]
  },
  {
   "cell_type": "code",
   "execution_count": 191,
   "metadata": {},
   "outputs": [
    {
     "data": {
      "text/plain": [
       "0-9       61.0%\n",
       "10-19     39.2%\n",
       "20-29     36.9%\n",
       "30-39     42.2%\n",
       "40-49     38.5%\n",
       "50-59     45.7%\n",
       "60-69     31.2%\n",
       "70-79     14.3%\n",
       "80-89    100.0%\n",
       "Name: age, dtype: object"
      ]
     },
     "execution_count": 191,
     "metadata": {},
     "output_type": "execute_result"
    }
   ],
   "source": [
    "ranges = [\n",
    "    (min, max)\n",
    "    for min, max in zip(np.arange(df['age'].max() + 1, step=10, dtype=int),\n",
    "                        np.arange(9, df['age'].max() + 10, step=10, dtype=int))\n",
    "]\n",
    "\n",
    "age_survive_prob = pd.Series({\n",
    "    f\"{ranges[i][0]}-{ranges[i][1]}\":\n",
    "    f\"{df[(df['age'] >= ranges[i][0]) & (df['age'] <= ranges[i][1])]['survived'].mean():.1%}\"\n",
    "    for i in range(len(ranges))\n",
    "})\n",
    "age_survive_prob.name = \"age\"\n",
    "age_survive_prob"
   ]
  },
  {
   "cell_type": "markdown",
   "metadata": {},
   "source": [
    "# WELCOME TO THE JUNGLE OF TRAIN SYSTEM DATA\n",
    "\n",
    "In real life, data is not usually given to you in a neat, single file, but you have to merge together different\n",
    "sources.You will find the data scattered among several files in the repository `data_sncf.zip.`"
   ]
  },
  {
   "cell_type": "markdown",
   "metadata": {},
   "source": [
    "## WALKING THROUGH THE DATA"
   ]
  },
  {
   "cell_type": "code",
   "execution_count": 192,
   "metadata": {},
   "outputs": [],
   "source": [
    "stops_df = pd.read_csv('./data-sncf/stops.txt')\n",
    "stop_times_df = pd.read_csv('./data-sncf/stop_times.txt')"
   ]
  },
  {
   "cell_type": "code",
   "execution_count": 193,
   "metadata": {},
   "outputs": [
    {
     "data": {
      "text/html": [
       "<div>\n",
       "<style scoped>\n",
       "    .dataframe tbody tr th:only-of-type {\n",
       "        vertical-align: middle;\n",
       "    }\n",
       "\n",
       "    .dataframe tbody tr th {\n",
       "        vertical-align: top;\n",
       "    }\n",
       "\n",
       "    .dataframe thead th {\n",
       "        text-align: right;\n",
       "    }\n",
       "</style>\n",
       "<table border=\"1\" class=\"dataframe\">\n",
       "  <thead>\n",
       "    <tr style=\"text-align: right;\">\n",
       "      <th></th>\n",
       "      <th>stop_id</th>\n",
       "      <th>stop_name</th>\n",
       "      <th>stop_desc</th>\n",
       "      <th>stop_lat</th>\n",
       "      <th>stop_lon</th>\n",
       "      <th>zone_id</th>\n",
       "      <th>stop_url</th>\n",
       "      <th>location_type</th>\n",
       "      <th>parent_station</th>\n",
       "    </tr>\n",
       "  </thead>\n",
       "  <tbody>\n",
       "    <tr>\n",
       "      <th>0</th>\n",
       "      <td>StopArea:OCE87381509</td>\n",
       "      <td>Gare de Mantes-la-Jolie</td>\n",
       "      <td>NaN</td>\n",
       "      <td>48.989687</td>\n",
       "      <td>1.703294</td>\n",
       "      <td>NaN</td>\n",
       "      <td>NaN</td>\n",
       "      <td>1</td>\n",
       "      <td>NaN</td>\n",
       "    </tr>\n",
       "    <tr>\n",
       "      <th>1</th>\n",
       "      <td>StopArea:OCE87415604</td>\n",
       "      <td>Gare de Vernon-Giverny</td>\n",
       "      <td>NaN</td>\n",
       "      <td>49.091286</td>\n",
       "      <td>1.478363</td>\n",
       "      <td>NaN</td>\n",
       "      <td>NaN</td>\n",
       "      <td>1</td>\n",
       "      <td>NaN</td>\n",
       "    </tr>\n",
       "    <tr>\n",
       "      <th>2</th>\n",
       "      <td>StopArea:OCE87415620</td>\n",
       "      <td>Gare de Gaillon-Aubevoye</td>\n",
       "      <td>NaN</td>\n",
       "      <td>49.174632</td>\n",
       "      <td>1.352518</td>\n",
       "      <td>NaN</td>\n",
       "      <td>NaN</td>\n",
       "      <td>1</td>\n",
       "      <td>NaN</td>\n",
       "    </tr>\n",
       "    <tr>\n",
       "      <th>3</th>\n",
       "      <td>StopArea:OCE87415877</td>\n",
       "      <td>Gare de Val-de-Reuil</td>\n",
       "      <td>NaN</td>\n",
       "      <td>49.275399</td>\n",
       "      <td>1.224609</td>\n",
       "      <td>NaN</td>\n",
       "      <td>NaN</td>\n",
       "      <td>1</td>\n",
       "      <td>NaN</td>\n",
       "    </tr>\n",
       "    <tr>\n",
       "      <th>4</th>\n",
       "      <td>StopArea:OCE87411207</td>\n",
       "      <td>Gare de Oissel</td>\n",
       "      <td>NaN</td>\n",
       "      <td>49.343042</td>\n",
       "      <td>1.101821</td>\n",
       "      <td>NaN</td>\n",
       "      <td>NaN</td>\n",
       "      <td>1</td>\n",
       "      <td>NaN</td>\n",
       "    </tr>\n",
       "  </tbody>\n",
       "</table>\n",
       "</div>"
      ],
      "text/plain": [
       "                stop_id                 stop_name  stop_desc   stop_lat  \\\n",
       "0  StopArea:OCE87381509   Gare de Mantes-la-Jolie        NaN  48.989687   \n",
       "1  StopArea:OCE87415604    Gare de Vernon-Giverny        NaN  49.091286   \n",
       "2  StopArea:OCE87415620  Gare de Gaillon-Aubevoye        NaN  49.174632   \n",
       "3  StopArea:OCE87415877      Gare de Val-de-Reuil        NaN  49.275399   \n",
       "4  StopArea:OCE87411207            Gare de Oissel        NaN  49.343042   \n",
       "\n",
       "   stop_lon  zone_id  stop_url  location_type parent_station  \n",
       "0  1.703294      NaN       NaN              1            NaN  \n",
       "1  1.478363      NaN       NaN              1            NaN  \n",
       "2  1.352518      NaN       NaN              1            NaN  \n",
       "3  1.224609      NaN       NaN              1            NaN  \n",
       "4  1.101821      NaN       NaN              1            NaN  "
      ]
     },
     "execution_count": 193,
     "metadata": {},
     "output_type": "execute_result"
    }
   ],
   "source": [
    "stops_df.head()"
   ]
  },
  {
   "cell_type": "code",
   "execution_count": 194,
   "metadata": {},
   "outputs": [
    {
     "data": {
      "text/html": [
       "<div>\n",
       "<style scoped>\n",
       "    .dataframe tbody tr th:only-of-type {\n",
       "        vertical-align: middle;\n",
       "    }\n",
       "\n",
       "    .dataframe tbody tr th {\n",
       "        vertical-align: top;\n",
       "    }\n",
       "\n",
       "    .dataframe thead th {\n",
       "        text-align: right;\n",
       "    }\n",
       "</style>\n",
       "<table border=\"1\" class=\"dataframe\">\n",
       "  <thead>\n",
       "    <tr style=\"text-align: right;\">\n",
       "      <th></th>\n",
       "      <th>trip_id</th>\n",
       "      <th>arrival_time</th>\n",
       "      <th>departure_time</th>\n",
       "      <th>stop_id</th>\n",
       "      <th>stop_sequence</th>\n",
       "      <th>stop_headsign</th>\n",
       "      <th>pickup_type</th>\n",
       "      <th>drop_off_type</th>\n",
       "      <th>shape_dist_traveled</th>\n",
       "    </tr>\n",
       "  </thead>\n",
       "  <tbody>\n",
       "    <tr>\n",
       "      <th>0</th>\n",
       "      <td>OCESN037071R0100119847</td>\n",
       "      <td>23:05:00</td>\n",
       "      <td>23:05:00</td>\n",
       "      <td>StopPoint:OCECar TER-87381509</td>\n",
       "      <td>0</td>\n",
       "      <td>NaN</td>\n",
       "      <td>0</td>\n",
       "      <td>0</td>\n",
       "      <td>NaN</td>\n",
       "    </tr>\n",
       "    <tr>\n",
       "      <th>1</th>\n",
       "      <td>OCESN037071R0100119847</td>\n",
       "      <td>23:35:00</td>\n",
       "      <td>23:35:00</td>\n",
       "      <td>StopPoint:OCECar TER-87415604</td>\n",
       "      <td>1</td>\n",
       "      <td>NaN</td>\n",
       "      <td>0</td>\n",
       "      <td>0</td>\n",
       "      <td>NaN</td>\n",
       "    </tr>\n",
       "    <tr>\n",
       "      <th>2</th>\n",
       "      <td>OCESN037071R0100119847</td>\n",
       "      <td>23:55:00</td>\n",
       "      <td>23:55:00</td>\n",
       "      <td>StopPoint:OCECar TER-87415620</td>\n",
       "      <td>2</td>\n",
       "      <td>NaN</td>\n",
       "      <td>0</td>\n",
       "      <td>0</td>\n",
       "      <td>NaN</td>\n",
       "    </tr>\n",
       "    <tr>\n",
       "      <th>3</th>\n",
       "      <td>OCESN037071R0100119847</td>\n",
       "      <td>24:25:00</td>\n",
       "      <td>24:25:00</td>\n",
       "      <td>StopPoint:OCECar TER-87415877</td>\n",
       "      <td>3</td>\n",
       "      <td>NaN</td>\n",
       "      <td>0</td>\n",
       "      <td>0</td>\n",
       "      <td>NaN</td>\n",
       "    </tr>\n",
       "    <tr>\n",
       "      <th>4</th>\n",
       "      <td>OCESN037071R0100119847</td>\n",
       "      <td>24:45:00</td>\n",
       "      <td>24:45:00</td>\n",
       "      <td>StopPoint:OCECar TER-87411207</td>\n",
       "      <td>4</td>\n",
       "      <td>NaN</td>\n",
       "      <td>0</td>\n",
       "      <td>0</td>\n",
       "      <td>NaN</td>\n",
       "    </tr>\n",
       "  </tbody>\n",
       "</table>\n",
       "</div>"
      ],
      "text/plain": [
       "                  trip_id arrival_time departure_time  \\\n",
       "0  OCESN037071R0100119847     23:05:00       23:05:00   \n",
       "1  OCESN037071R0100119847     23:35:00       23:35:00   \n",
       "2  OCESN037071R0100119847     23:55:00       23:55:00   \n",
       "3  OCESN037071R0100119847     24:25:00       24:25:00   \n",
       "4  OCESN037071R0100119847     24:45:00       24:45:00   \n",
       "\n",
       "                         stop_id  stop_sequence  stop_headsign  pickup_type  \\\n",
       "0  StopPoint:OCECar TER-87381509              0            NaN            0   \n",
       "1  StopPoint:OCECar TER-87415604              1            NaN            0   \n",
       "2  StopPoint:OCECar TER-87415620              2            NaN            0   \n",
       "3  StopPoint:OCECar TER-87415877              3            NaN            0   \n",
       "4  StopPoint:OCECar TER-87411207              4            NaN            0   \n",
       "\n",
       "   drop_off_type  shape_dist_traveled  \n",
       "0              0                  NaN  \n",
       "1              0                  NaN  \n",
       "2              0                  NaN  \n",
       "3              0                  NaN  \n",
       "4              0                  NaN  "
      ]
     },
     "execution_count": 194,
     "metadata": {},
     "output_type": "execute_result"
    }
   ],
   "source": [
    "stop_times_df.head()"
   ]
  },
  {
   "cell_type": "code",
   "execution_count": 195,
   "metadata": {},
   "outputs": [
    {
     "data": {
      "text/plain": [
       "((9176, 9), (209129, 9))"
      ]
     },
     "execution_count": 195,
     "metadata": {},
     "output_type": "execute_result"
    }
   ],
   "source": [
    "stops_df.shape, stop_times_df.shape"
   ]
  },
  {
   "cell_type": "code",
   "execution_count": 196,
   "metadata": {},
   "outputs": [],
   "source": [
    "train_station_df = pd.concat([stop_times_df['trip_id'], stop_times_df['departure_time'], stop_times_df['stop_id']], axis=1)\n",
    "train_station_df = train_station_df.join(stops_df.set_index('stop_id')['stop_name'], on='stop_id')\n",
    "train_station_df.sort_values(['stop_name', 'departure_time'], inplace=True)"
   ]
  },
  {
   "cell_type": "code",
   "execution_count": 197,
   "metadata": {},
   "outputs": [
    {
     "data": {
      "text/plain": [
       "array(['05:24:00', '05:46:00', '06:00:00', '06:19:00', '06:23:00',\n",
       "       '06:25:00', '06:35:00', '06:46:00', '06:49:00', '06:59:00',\n",
       "       '07:08:00', '07:19:00', '07:23:00', '07:40:00', '07:45:00',\n",
       "       '07:59:00', '08:00:00', '08:23:00', '08:37:00', '08:40:00',\n",
       "       '08:53:00', '08:56:00', '09:00:00', '09:23:00', '09:37:00',\n",
       "       '09:59:00', '10:00:00', '10:23:00', '10:26:00', '10:59:00',\n",
       "       '11:00:00', '11:23:00', '11:37:00', '11:59:00', '12:00:00',\n",
       "       '12:23:00', '12:37:00', '12:59:00', '13:00:00', '13:20:00',\n",
       "       '13:23:00', '13:37:00', '13:58:00', '13:59:00', '14:00:00',\n",
       "       '14:20:00', '14:23:00', '15:00:00', '15:23:00', '15:37:00',\n",
       "       '15:53:00', '15:59:00', '16:00:00', '16:23:00', '16:37:00',\n",
       "       '16:59:00', '17:00:00', '17:23:00', '17:37:00', '17:59:00',\n",
       "       '18:00:00', '18:20:00', '18:22:00', '18:23:00', '18:24:00',\n",
       "       '18:37:00', '18:59:00', '19:00:00', '19:14:00', '19:23:00',\n",
       "       '19:37:00', '19:38:00', '19:59:00', '20:00:00', '20:14:00',\n",
       "       '20:23:00', '20:37:00', '20:59:00', '21:22:00', '21:23:00',\n",
       "       '21:37:00', '21:39:00', '21:40:00', '21:59:00', '22:37:00',\n",
       "       '23:07:00', '23:37:00', '24:45:00'], dtype=object)"
      ]
     },
     "execution_count": 197,
     "metadata": {},
     "output_type": "execute_result"
    }
   ],
   "source": [
    "station_name = 'Gare de Oissel'\n",
    "train_station_df[train_station_df['stop_name'] == station_name]['departure_time'].unique()"
   ]
  },
  {
   "cell_type": "markdown",
   "metadata": {},
   "source": [
    "## MERGING INFORMATION"
   ]
  },
  {
   "cell_type": "code",
   "execution_count": 205,
   "metadata": {},
   "outputs": [
    {
     "data": {
      "text/html": [
       "<div>\n",
       "<style scoped>\n",
       "    .dataframe tbody tr th:only-of-type {\n",
       "        vertical-align: middle;\n",
       "    }\n",
       "\n",
       "    .dataframe tbody tr th {\n",
       "        vertical-align: top;\n",
       "    }\n",
       "\n",
       "    .dataframe thead th {\n",
       "        text-align: right;\n",
       "    }\n",
       "</style>\n",
       "<table border=\"1\" class=\"dataframe\">\n",
       "  <thead>\n",
       "    <tr style=\"text-align: right;\">\n",
       "      <th></th>\n",
       "      <th>trip_id</th>\n",
       "      <th>departure_time</th>\n",
       "    </tr>\n",
       "  </thead>\n",
       "  <tbody>\n",
       "    <tr>\n",
       "      <th>143499</th>\n",
       "      <td>OCESN839561F0800838467</td>\n",
       "      <td>05:42:00</td>\n",
       "    </tr>\n",
       "    <tr>\n",
       "      <th>143590</th>\n",
       "      <td>OCESN839551F3403438301</td>\n",
       "      <td>06:34:00</td>\n",
       "    </tr>\n",
       "    <tr>\n",
       "      <th>148677</th>\n",
       "      <td>OCESN839131F1201238020</td>\n",
       "      <td>06:36:00</td>\n",
       "    </tr>\n",
       "    <tr>\n",
       "      <th>148698</th>\n",
       "      <td>OCESN839131F1301338019</td>\n",
       "      <td>06:36:00</td>\n",
       "    </tr>\n",
       "    <tr>\n",
       "      <th>148712</th>\n",
       "      <td>OCESN839131F0900938022</td>\n",
       "      <td>06:36:00</td>\n",
       "    </tr>\n",
       "    <tr>\n",
       "      <th>...</th>\n",
       "      <td>...</td>\n",
       "      <td>...</td>\n",
       "    </tr>\n",
       "    <tr>\n",
       "      <th>149279</th>\n",
       "      <td>OCESN839162F0900938089</td>\n",
       "      <td>09:55:00</td>\n",
       "    </tr>\n",
       "    <tr>\n",
       "      <th>149291</th>\n",
       "      <td>OCESN839162F1401438085</td>\n",
       "      <td>09:55:00</td>\n",
       "    </tr>\n",
       "    <tr>\n",
       "      <th>144392</th>\n",
       "      <td>OCESN839550F8108138273</td>\n",
       "      <td>09:57:00</td>\n",
       "    </tr>\n",
       "    <tr>\n",
       "      <th>144401</th>\n",
       "      <td>OCESN839550F5305338270</td>\n",
       "      <td>09:59:00</td>\n",
       "    </tr>\n",
       "    <tr>\n",
       "      <th>144638</th>\n",
       "      <td>OCESN839550F7007038284</td>\n",
       "      <td>09:59:00</td>\n",
       "    </tr>\n",
       "  </tbody>\n",
       "</table>\n",
       "<p>70 rows × 2 columns</p>\n",
       "</div>"
      ],
      "text/plain": [
       "                       trip_id departure_time\n",
       "143499  OCESN839561F0800838467       05:42:00\n",
       "143590  OCESN839551F3403438301       06:34:00\n",
       "148677  OCESN839131F1201238020       06:36:00\n",
       "148698  OCESN839131F1301338019       06:36:00\n",
       "148712  OCESN839131F0900938022       06:36:00\n",
       "...                        ...            ...\n",
       "149279  OCESN839162F0900938089       09:55:00\n",
       "149291  OCESN839162F1401438085       09:55:00\n",
       "144392  OCESN839550F8108138273       09:57:00\n",
       "144401  OCESN839550F5305338270       09:59:00\n",
       "144638  OCESN839550F7007038284       09:59:00\n",
       "\n",
       "[70 rows x 2 columns]"
      ]
     },
     "execution_count": 205,
     "metadata": {},
     "output_type": "execute_result"
    }
   ],
   "source": [
    "station_name = 'Gare de Paris-Est'\n",
    "before = '10:00:00'\n",
    "filter = (train_station_df['stop_name']\n",
    "          == station_name) & (train_station_df['departure_time'] < before)\n",
    "train_station_df[filter][['trip_id', 'departure_time']]"
   ]
  }
 ],
 "metadata": {
  "kernelspec": {
   "display_name": "Python 3.8.10 ('recommender')",
   "language": "python",
   "name": "python3"
  },
  "language_info": {
   "codemirror_mode": {
    "name": "ipython",
    "version": 3
   },
   "file_extension": ".py",
   "mimetype": "text/x-python",
   "name": "python",
   "nbconvert_exporter": "python",
   "pygments_lexer": "ipython3",
   "version": "3.8.10"
  },
  "orig_nbformat": 4,
  "vscode": {
   "interpreter": {
    "hash": "d3ed9aefa2e29ed821caf0bc7cd8c056c977fb8f9c505437c7268b3e56740bc9"
   }
  }
 },
 "nbformat": 4,
 "nbformat_minor": 2
}
