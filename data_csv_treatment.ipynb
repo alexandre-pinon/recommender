{
 "cells": [
  {
   "cell_type": "markdown",
   "id": "bd083404",
   "metadata": {},
   "source": [
    "# DATA"
   ]
  },
  {
   "cell_type": "code",
   "execution_count": 45,
   "id": "1575591b",
   "metadata": {},
   "outputs": [],
   "source": [
    "from sklearn.ensemble import IsolationForest\n",
    "import matplotlib.pyplot as plt\n",
    "import seaborn as sns\n",
    "from scipy.stats import iqr"
   ]
  },
  {
   "cell_type": "code",
   "execution_count": 3,
   "id": "aed49b39",
   "metadata": {},
   "outputs": [],
   "source": [
    "import pandas as pd\n",
    "data = pd.read_csv('/Users/tharick/Epitech/T-DAT-901-PAR_3/KaDo.csv')"
   ]
  },
  {
   "cell_type": "code",
   "execution_count": 20,
   "id": "f16c429b",
   "metadata": {},
   "outputs": [
    {
     "data": {
      "text/plain": [
       "Index(['TICKET_ID', 'MOIS_VENTE', 'PRIX_NET', 'FAMILLE', 'UNIVERS', 'MAILLE',\n",
       "       'LIBELLE', 'CLI_ID'],\n",
       "      dtype='object')"
      ]
     },
     "execution_count": 20,
     "metadata": {},
     "output_type": "execute_result"
    }
   ],
   "source": [
    "data.columns"
   ]
  },
  {
   "cell_type": "code",
   "execution_count": 28,
   "id": "16afe00d",
   "metadata": {},
   "outputs": [
    {
     "data": {
      "text/plain": [
       "TICKET_ID     0\n",
       "MOIS_VENTE    0\n",
       "PRIX_NET      0\n",
       "FAMILLE       0\n",
       "UNIVERS       0\n",
       "MAILLE        0\n",
       "LIBELLE       0\n",
       "CLI_ID        0\n",
       "dtype: int64"
      ]
     },
     "execution_count": 28,
     "metadata": {},
     "output_type": "execute_result"
    }
   ],
   "source": [
    "data.isna().sum()"
   ]
  },
  {
   "cell_type": "code",
   "execution_count": 4,
   "id": "49b32795",
   "metadata": {},
   "outputs": [
    {
     "data": {
      "text/plain": [
       "count    7.245522e+06\n",
       "mean     5.970084e+00\n",
       "std      5.885542e+00\n",
       "min      1.000000e-02\n",
       "25%      1.950000e+00\n",
       "50%      4.250000e+00\n",
       "75%      7.450000e+00\n",
       "max      1.575000e+03\n",
       "Name: PRIX_NET, dtype: float64"
      ]
     },
     "execution_count": 4,
     "metadata": {},
     "output_type": "execute_result"
    }
   ],
   "source": [
    "data['PRIX_NET'].describe()"
   ]
  },
  {
   "cell_type": "code",
   "execution_count": 58,
   "id": "41b2d0f6",
   "metadata": {},
   "outputs": [
    {
     "data": {
      "text/html": [
       "<div>\n",
       "<style scoped>\n",
       "    .dataframe tbody tr th:only-of-type {\n",
       "        vertical-align: middle;\n",
       "    }\n",
       "\n",
       "    .dataframe tbody tr th {\n",
       "        vertical-align: top;\n",
       "    }\n",
       "\n",
       "    .dataframe thead th {\n",
       "        text-align: right;\n",
       "    }\n",
       "</style>\n",
       "<table border=\"1\" class=\"dataframe\">\n",
       "  <thead>\n",
       "    <tr style=\"text-align: right;\">\n",
       "      <th></th>\n",
       "      <th>name</th>\n",
       "      <th>count</th>\n",
       "    </tr>\n",
       "  </thead>\n",
       "  <tbody>\n",
       "    <tr>\n",
       "      <th>0</th>\n",
       "      <td>DEMAQ EXPRESS PUR BLEUET FL125ML</td>\n",
       "      <td>158762</td>\n",
       "    </tr>\n",
       "    <tr>\n",
       "      <th>1</th>\n",
       "      <td>GD JDM4 LOTUS FL200ML</td>\n",
       "      <td>85914</td>\n",
       "    </tr>\n",
       "    <tr>\n",
       "      <th>2</th>\n",
       "      <td>GD JDM4 GRENADE FL200ML</td>\n",
       "      <td>81406</td>\n",
       "    </tr>\n",
       "    <tr>\n",
       "      <th>3</th>\n",
       "      <td>SVC CREME QUOTIDIENNE T75ml</td>\n",
       "      <td>72394</td>\n",
       "    </tr>\n",
       "    <tr>\n",
       "      <th>4</th>\n",
       "      <td>MDT SD DES LAGONS 150 ML</td>\n",
       "      <td>64400</td>\n",
       "    </tr>\n",
       "    <tr>\n",
       "      <th>...</th>\n",
       "      <td>...</td>\n",
       "      <td>...</td>\n",
       "    </tr>\n",
       "    <tr>\n",
       "      <th>1479</th>\n",
       "      <td>LAIT ENFANT IP30 FL150 PROT VEG</td>\n",
       "      <td>1</td>\n",
       "    </tr>\n",
       "    <tr>\n",
       "      <th>1480</th>\n",
       "      <td>EDT ODE A L' AMOUR PASSIONNEMENT30ML</td>\n",
       "      <td>1</td>\n",
       "    </tr>\n",
       "    <tr>\n",
       "      <th>1481</th>\n",
       "      <td>FDT PINCEAU ECLAT MEDIUM CN3 15</td>\n",
       "      <td>1</td>\n",
       "    </tr>\n",
       "    <tr>\n",
       "      <th>1482</th>\n",
       "      <td>HYDRA SEVE NUIT HYDRASP P50ML</td>\n",
       "      <td>1</td>\n",
       "    </tr>\n",
       "    <tr>\n",
       "      <th>1483</th>\n",
       "      <td>FDT PINCEAU ECL/TRES CLAIR CN3 15</td>\n",
       "      <td>1</td>\n",
       "    </tr>\n",
       "  </tbody>\n",
       "</table>\n",
       "<p>1484 rows × 2 columns</p>\n",
       "</div>"
      ],
      "text/plain": [
       "                                      name   count\n",
       "0         DEMAQ EXPRESS PUR BLEUET FL125ML  158762\n",
       "1                    GD JDM4 LOTUS FL200ML   85914\n",
       "2                  GD JDM4 GRENADE FL200ML   81406\n",
       "3              SVC CREME QUOTIDIENNE T75ml   72394\n",
       "4                 MDT SD DES LAGONS 150 ML   64400\n",
       "...                                    ...     ...\n",
       "1479       LAIT ENFANT IP30 FL150 PROT VEG       1\n",
       "1480  EDT ODE A L' AMOUR PASSIONNEMENT30ML       1\n",
       "1481       FDT PINCEAU ECLAT MEDIUM CN3 15       1\n",
       "1482         HYDRA SEVE NUIT HYDRASP P50ML       1\n",
       "1483     FDT PINCEAU ECL/TRES CLAIR CN3 15       1\n",
       "\n",
       "[1484 rows x 2 columns]"
      ]
     },
     "execution_count": 58,
     "metadata": {},
     "output_type": "execute_result"
    }
   ],
   "source": [
    "products = data['LIBELLE'].value_counts().to_frame()\n",
    "products.reset_index(inplace=True)\n",
    "products = products.rename(columns = {'index':'name', 'LIBELLE': 'count'})\n",
    "products"
   ]
  },
  {
   "cell_type": "code",
   "execution_count": 80,
   "id": "9affb3de",
   "metadata": {},
   "outputs": [
    {
     "data": {
      "text/html": [
       "<div>\n",
       "<style scoped>\n",
       "    .dataframe tbody tr th:only-of-type {\n",
       "        vertical-align: middle;\n",
       "    }\n",
       "\n",
       "    .dataframe tbody tr th {\n",
       "        vertical-align: top;\n",
       "    }\n",
       "\n",
       "    .dataframe thead th {\n",
       "        text-align: right;\n",
       "    }\n",
       "</style>\n",
       "<table border=\"1\" class=\"dataframe\">\n",
       "  <thead>\n",
       "    <tr style=\"text-align: right;\">\n",
       "      <th></th>\n",
       "      <th>name</th>\n",
       "      <th>count</th>\n",
       "    </tr>\n",
       "  </thead>\n",
       "  <tbody>\n",
       "    <tr>\n",
       "      <th>0</th>\n",
       "      <td>DEMAQ EXPRESS PUR BLEUET FL125ML</td>\n",
       "      <td>158762</td>\n",
       "    </tr>\n",
       "    <tr>\n",
       "      <th>1</th>\n",
       "      <td>GD JDM4 LOTUS FL200ML</td>\n",
       "      <td>85914</td>\n",
       "    </tr>\n",
       "    <tr>\n",
       "      <th>2</th>\n",
       "      <td>GD JDM4 GRENADE FL200ML</td>\n",
       "      <td>81406</td>\n",
       "    </tr>\n",
       "    <tr>\n",
       "      <th>3</th>\n",
       "      <td>SVC CREME QUOTIDIENNE T75ml</td>\n",
       "      <td>72394</td>\n",
       "    </tr>\n",
       "    <tr>\n",
       "      <th>4</th>\n",
       "      <td>MDT SD DES LAGONS 150 ML</td>\n",
       "      <td>64400</td>\n",
       "    </tr>\n",
       "    <tr>\n",
       "      <th>...</th>\n",
       "      <td>...</td>\n",
       "      <td>...</td>\n",
       "    </tr>\n",
       "    <tr>\n",
       "      <th>1163</th>\n",
       "      <td>BIO CREME DOUCHE MAUVE 200 ML</td>\n",
       "      <td>105</td>\n",
       "    </tr>\n",
       "    <tr>\n",
       "      <th>1164</th>\n",
       "      <td>VAO GLITTER ROS/PAILL HIV13 ANI LU4 3ML</td>\n",
       "      <td>104</td>\n",
       "    </tr>\n",
       "    <tr>\n",
       "      <th>1165</th>\n",
       "      <td>VAO OR SCINTIL NOEL12 LU4 ANI 3ML</td>\n",
       "      <td>104</td>\n",
       "    </tr>\n",
       "    <tr>\n",
       "      <th>1166</th>\n",
       "      <td>FAP MONO BAIE ROSE CN3 3g</td>\n",
       "      <td>102</td>\n",
       "    </tr>\n",
       "    <tr>\n",
       "      <th>1167</th>\n",
       "      <td>FDT SOLEIL HALE NATUR CN3 4G</td>\n",
       "      <td>101</td>\n",
       "    </tr>\n",
       "  </tbody>\n",
       "</table>\n",
       "<p>1168 rows × 2 columns</p>\n",
       "</div>"
      ],
      "text/plain": [
       "                                         name   count\n",
       "0            DEMAQ EXPRESS PUR BLEUET FL125ML  158762\n",
       "1                       GD JDM4 LOTUS FL200ML   85914\n",
       "2                     GD JDM4 GRENADE FL200ML   81406\n",
       "3                 SVC CREME QUOTIDIENNE T75ml   72394\n",
       "4                    MDT SD DES LAGONS 150 ML   64400\n",
       "...                                       ...     ...\n",
       "1163            BIO CREME DOUCHE MAUVE 200 ML     105\n",
       "1164  VAO GLITTER ROS/PAILL HIV13 ANI LU4 3ML     104\n",
       "1165        VAO OR SCINTIL NOEL12 LU4 ANI 3ML     104\n",
       "1166                FAP MONO BAIE ROSE CN3 3g     102\n",
       "1167             FDT SOLEIL HALE NATUR CN3 4G     101\n",
       "\n",
       "[1168 rows x 2 columns]"
      ]
     },
     "execution_count": 80,
     "metadata": {},
     "output_type": "execute_result"
    }
   ],
   "source": [
    "products[products['count'] > 100]"
   ]
  },
  {
   "cell_type": "code",
   "execution_count": 30,
   "id": "a812e23f",
   "metadata": {},
   "outputs": [],
   "source": [
    "parfum = data[data['LIBELLE'] == 'DEMAQ EXPRESS PUR BLEUET FL125ML']\n",
    "parfum_prix_net = parfum['PRIX_NET']"
   ]
  },
  {
   "cell_type": "code",
   "execution_count": 7,
   "id": "89dd2816",
   "metadata": {},
   "outputs": [
    {
     "data": {
      "text/plain": [
       "count    158762.000000\n",
       "mean          4.480944\n",
       "std           1.992971\n",
       "min           0.010000\n",
       "25%           3.600000\n",
       "50%           3.650000\n",
       "75%           3.950000\n",
       "max          65.700000\n",
       "Name: PRIX_NET, dtype: float64"
      ]
     },
     "execution_count": 7,
     "metadata": {},
     "output_type": "execute_result"
    }
   ],
   "source": [
    "parfum_prix_net.describe()"
   ]
  },
  {
   "cell_type": "code",
   "execution_count": 8,
   "id": "a5d9abfa",
   "metadata": {},
   "outputs": [
    {
     "data": {
      "text/plain": [
       "count    1239.000000\n",
       "mean       16.942050\n",
       "std         5.137828\n",
       "min        14.100000\n",
       "25%        14.600000\n",
       "50%        14.600000\n",
       "75%        17.500000\n",
       "max        65.700000\n",
       "Name: PRIX_NET, dtype: float64"
      ]
     },
     "execution_count": 8,
     "metadata": {},
     "output_type": "execute_result"
    }
   ],
   "source": [
    "parfum_prix_net[parfum_prix_net > 14].describe()"
   ]
  },
  {
   "cell_type": "code",
   "execution_count": 16,
   "id": "cff030aa",
   "metadata": {},
   "outputs": [],
   "source": [
    "model = IsolationForest(contamination=0.01)\n",
    "outliers_idx = model.fit_predict(parfum_prix_net.to_numpy().reshape(-1, 1))"
   ]
  },
  {
   "cell_type": "code",
   "execution_count": 19,
   "id": "5b405f36",
   "metadata": {},
   "outputs": [
    {
     "data": {
      "text/plain": [
       "Int64Index([  21847,   33760,   36566,   36591,   57954,   60821,   61967,\n",
       "              71806,   78376,   78389,\n",
       "            ...\n",
       "            7146850, 7159068, 7163924, 7175435, 7183006, 7185457, 7189416,\n",
       "            7194018, 7201167, 7239440],\n",
       "           dtype='int64', length=1476)"
      ]
     },
     "execution_count": 19,
     "metadata": {},
     "output_type": "execute_result"
    }
   ],
   "source": [
    "parfum_prix_net[outliers_idx == -1].index"
   ]
  },
  {
   "cell_type": "code",
   "execution_count": 23,
   "id": "7ed08c7c",
   "metadata": {},
   "outputs": [
    {
     "data": {
      "text/plain": [
       "1     187\n",
       "3     183\n",
       "12    172\n",
       "7     141\n",
       "9     137\n",
       "6     128\n",
       "10    121\n",
       "2     110\n",
       "4      96\n",
       "5      79\n",
       "11     66\n",
       "8      56\n",
       "Name: MOIS_VENTE, dtype: int64"
      ]
     },
     "execution_count": 23,
     "metadata": {},
     "output_type": "execute_result"
    }
   ],
   "source": [
    "data['MOIS_VENTE'][parfum_prix_net[outliers_idx == -1].index].value_counts()"
   ]
  },
  {
   "cell_type": "code",
   "execution_count": 40,
   "id": "48abf71a",
   "metadata": {},
   "outputs": [
    {
     "data": {
      "text/plain": [
       "FAMILLE          UNIVERS           MAILLE    \n",
       "SOINS DU VISAGE  VIS_DEMAQ BLEUET  VIS_AUTRES    158762\n",
       "dtype: int64"
      ]
     },
     "execution_count": 40,
     "metadata": {},
     "output_type": "execute_result"
    }
   ],
   "source": [
    "parfum[['FAMILLE', 'UNIVERS', 'MAILLE']].value_counts()"
   ]
  },
  {
   "cell_type": "code",
   "execution_count": 41,
   "id": "464c1cb9",
   "metadata": {},
   "outputs": [
    {
     "data": {
      "text/html": [
       "<div>\n",
       "<style scoped>\n",
       "    .dataframe tbody tr th:only-of-type {\n",
       "        vertical-align: middle;\n",
       "    }\n",
       "\n",
       "    .dataframe tbody tr th {\n",
       "        vertical-align: top;\n",
       "    }\n",
       "\n",
       "    .dataframe thead th {\n",
       "        text-align: right;\n",
       "    }\n",
       "</style>\n",
       "<table border=\"1\" class=\"dataframe\">\n",
       "  <thead>\n",
       "    <tr style=\"text-align: right;\">\n",
       "      <th></th>\n",
       "      <th>TICKET_ID</th>\n",
       "      <th>MOIS_VENTE</th>\n",
       "      <th>PRIX_NET</th>\n",
       "      <th>FAMILLE</th>\n",
       "      <th>UNIVERS</th>\n",
       "      <th>MAILLE</th>\n",
       "      <th>LIBELLE</th>\n",
       "      <th>CLI_ID</th>\n",
       "    </tr>\n",
       "  </thead>\n",
       "  <tbody>\n",
       "    <tr>\n",
       "      <th>205</th>\n",
       "      <td>36111293</td>\n",
       "      <td>12</td>\n",
       "      <td>3.50</td>\n",
       "      <td>SOINS DU VISAGE</td>\n",
       "      <td>VIS_DEMAQ BLEUET</td>\n",
       "      <td>VIS_AUTRES</td>\n",
       "      <td>DEMAQ EXPRESS PUR BLEUET FL125ML</td>\n",
       "      <td>131204016</td>\n",
       "    </tr>\n",
       "    <tr>\n",
       "      <th>213</th>\n",
       "      <td>35117363</td>\n",
       "      <td>8</td>\n",
       "      <td>3.95</td>\n",
       "      <td>SOINS DU VISAGE</td>\n",
       "      <td>VIS_DEMAQ BLEUET</td>\n",
       "      <td>VIS_AUTRES</td>\n",
       "      <td>DEMAQ EXPRESS PUR BLEUET FL125ML</td>\n",
       "      <td>169985247</td>\n",
       "    </tr>\n",
       "    <tr>\n",
       "      <th>304</th>\n",
       "      <td>35183711</td>\n",
       "      <td>8</td>\n",
       "      <td>3.65</td>\n",
       "      <td>SOINS DU VISAGE</td>\n",
       "      <td>VIS_DEMAQ BLEUET</td>\n",
       "      <td>VIS_AUTRES</td>\n",
       "      <td>DEMAQ EXPRESS PUR BLEUET FL125ML</td>\n",
       "      <td>275493987</td>\n",
       "    </tr>\n",
       "    <tr>\n",
       "      <th>326</th>\n",
       "      <td>34502875</td>\n",
       "      <td>6</td>\n",
       "      <td>3.65</td>\n",
       "      <td>SOINS DU VISAGE</td>\n",
       "      <td>VIS_DEMAQ BLEUET</td>\n",
       "      <td>VIS_AUTRES</td>\n",
       "      <td>DEMAQ EXPRESS PUR BLEUET FL125ML</td>\n",
       "      <td>321933797</td>\n",
       "    </tr>\n",
       "    <tr>\n",
       "      <th>371</th>\n",
       "      <td>35271713</td>\n",
       "      <td>9</td>\n",
       "      <td>3.60</td>\n",
       "      <td>SOINS DU VISAGE</td>\n",
       "      <td>VIS_DEMAQ BLEUET</td>\n",
       "      <td>VIS_AUTRES</td>\n",
       "      <td>DEMAQ EXPRESS PUR BLEUET FL125ML</td>\n",
       "      <td>356998310</td>\n",
       "    </tr>\n",
       "    <tr>\n",
       "      <th>...</th>\n",
       "      <td>...</td>\n",
       "      <td>...</td>\n",
       "      <td>...</td>\n",
       "      <td>...</td>\n",
       "      <td>...</td>\n",
       "      <td>...</td>\n",
       "      <td>...</td>\n",
       "      <td>...</td>\n",
       "    </tr>\n",
       "    <tr>\n",
       "      <th>7245231</th>\n",
       "      <td>35849427</td>\n",
       "      <td>11</td>\n",
       "      <td>3.95</td>\n",
       "      <td>SOINS DU VISAGE</td>\n",
       "      <td>VIS_DEMAQ BLEUET</td>\n",
       "      <td>VIS_AUTRES</td>\n",
       "      <td>DEMAQ EXPRESS PUR BLEUET FL125ML</td>\n",
       "      <td>997048290</td>\n",
       "    </tr>\n",
       "    <tr>\n",
       "      <th>7245232</th>\n",
       "      <td>36063055</td>\n",
       "      <td>11</td>\n",
       "      <td>7.30</td>\n",
       "      <td>SOINS DU VISAGE</td>\n",
       "      <td>VIS_DEMAQ BLEUET</td>\n",
       "      <td>VIS_AUTRES</td>\n",
       "      <td>DEMAQ EXPRESS PUR BLEUET FL125ML</td>\n",
       "      <td>997048290</td>\n",
       "    </tr>\n",
       "    <tr>\n",
       "      <th>7245233</th>\n",
       "      <td>36302012</td>\n",
       "      <td>12</td>\n",
       "      <td>3.65</td>\n",
       "      <td>SOINS DU VISAGE</td>\n",
       "      <td>VIS_DEMAQ BLEUET</td>\n",
       "      <td>VIS_AUTRES</td>\n",
       "      <td>DEMAQ EXPRESS PUR BLEUET FL125ML</td>\n",
       "      <td>997048290</td>\n",
       "    </tr>\n",
       "    <tr>\n",
       "      <th>7245236</th>\n",
       "      <td>36507016</td>\n",
       "      <td>12</td>\n",
       "      <td>2.88</td>\n",
       "      <td>SOINS DU VISAGE</td>\n",
       "      <td>VIS_DEMAQ BLEUET</td>\n",
       "      <td>VIS_AUTRES</td>\n",
       "      <td>DEMAQ EXPRESS PUR BLEUET FL125ML</td>\n",
       "      <td>997048290</td>\n",
       "    </tr>\n",
       "    <tr>\n",
       "      <th>7245486</th>\n",
       "      <td>35157302</td>\n",
       "      <td>8</td>\n",
       "      <td>3.95</td>\n",
       "      <td>SOINS DU VISAGE</td>\n",
       "      <td>VIS_DEMAQ BLEUET</td>\n",
       "      <td>VIS_AUTRES</td>\n",
       "      <td>DEMAQ EXPRESS PUR BLEUET FL125ML</td>\n",
       "      <td>997048777</td>\n",
       "    </tr>\n",
       "  </tbody>\n",
       "</table>\n",
       "<p>158762 rows × 8 columns</p>\n",
       "</div>"
      ],
      "text/plain": [
       "         TICKET_ID  MOIS_VENTE  PRIX_NET          FAMILLE           UNIVERS  \\\n",
       "205       36111293          12      3.50  SOINS DU VISAGE  VIS_DEMAQ BLEUET   \n",
       "213       35117363           8      3.95  SOINS DU VISAGE  VIS_DEMAQ BLEUET   \n",
       "304       35183711           8      3.65  SOINS DU VISAGE  VIS_DEMAQ BLEUET   \n",
       "326       34502875           6      3.65  SOINS DU VISAGE  VIS_DEMAQ BLEUET   \n",
       "371       35271713           9      3.60  SOINS DU VISAGE  VIS_DEMAQ BLEUET   \n",
       "...            ...         ...       ...              ...               ...   \n",
       "7245231   35849427          11      3.95  SOINS DU VISAGE  VIS_DEMAQ BLEUET   \n",
       "7245232   36063055          11      7.30  SOINS DU VISAGE  VIS_DEMAQ BLEUET   \n",
       "7245233   36302012          12      3.65  SOINS DU VISAGE  VIS_DEMAQ BLEUET   \n",
       "7245236   36507016          12      2.88  SOINS DU VISAGE  VIS_DEMAQ BLEUET   \n",
       "7245486   35157302           8      3.95  SOINS DU VISAGE  VIS_DEMAQ BLEUET   \n",
       "\n",
       "             MAILLE                           LIBELLE     CLI_ID  \n",
       "205      VIS_AUTRES  DEMAQ EXPRESS PUR BLEUET FL125ML  131204016  \n",
       "213      VIS_AUTRES  DEMAQ EXPRESS PUR BLEUET FL125ML  169985247  \n",
       "304      VIS_AUTRES  DEMAQ EXPRESS PUR BLEUET FL125ML  275493987  \n",
       "326      VIS_AUTRES  DEMAQ EXPRESS PUR BLEUET FL125ML  321933797  \n",
       "371      VIS_AUTRES  DEMAQ EXPRESS PUR BLEUET FL125ML  356998310  \n",
       "...             ...                               ...        ...  \n",
       "7245231  VIS_AUTRES  DEMAQ EXPRESS PUR BLEUET FL125ML  997048290  \n",
       "7245232  VIS_AUTRES  DEMAQ EXPRESS PUR BLEUET FL125ML  997048290  \n",
       "7245233  VIS_AUTRES  DEMAQ EXPRESS PUR BLEUET FL125ML  997048290  \n",
       "7245236  VIS_AUTRES  DEMAQ EXPRESS PUR BLEUET FL125ML  997048290  \n",
       "7245486  VIS_AUTRES  DEMAQ EXPRESS PUR BLEUET FL125ML  997048777  \n",
       "\n",
       "[158762 rows x 8 columns]"
      ]
     },
     "execution_count": 41,
     "metadata": {},
     "output_type": "execute_result"
    }
   ],
   "source": [
    "parfum"
   ]
  },
  {
   "cell_type": "code",
   "execution_count": 49,
   "id": "37260330",
   "metadata": {},
   "outputs": [
    {
     "data": {
      "text/plain": [
       "<AxesSubplot:xlabel='PRIX_NET', ylabel='MOIS_VENTE'>"
      ]
     },
     "execution_count": 49,
     "metadata": {},
     "output_type": "execute_result"
    },
    {
     "data": {
      "image/png": "[encoded data removed]",
      "text/plain": [
       "<Figure size 1728x1152 with 1 Axes>"
      ]
     },
     "metadata": {
      "needs_background": "light"
     },
     "output_type": "display_data"
    }
   ],
   "source": [
    "fig, ax = plt.subplots(figsize=(24,16))\n",
    "sns.violinplot(data=parfum, x=\"PRIX_NET\", y=\"MOIS_VENTE\", ax=ax, orient=\"h\")"
   ]
  },
  {
   "cell_type": "code",
   "execution_count": 43,
   "id": "9936bc76",
   "metadata": {
    "scrolled": false
   },
   "outputs": [
    {
     "data": {
      "text/plain": [
       "<AxesSubplot:xlabel='PRIX_NET', ylabel='MOIS_VENTE'>"
      ]
     },
     "execution_count": 43,
     "metadata": {},
     "output_type": "execute_result"
    },
    {
     "data": {
      "image/png": "[encoded data removed]",
      "text/plain": [
       "<Figure size 1728x1152 with 1 Axes>"
      ]
     },
     "metadata": {
      "needs_background": "light"
     },
     "output_type": "display_data"
    }
   ],
   "source": [
    "fig, ax = plt.subplots(figsize=(24,16))\n",
    "sns.boxplot(data=parfum, x=\"PRIX_NET\", y=\"MOIS_VENTE\", ax=ax, orient=\"h\")"
   ]
  },
  {
   "cell_type": "code",
   "execution_count": 68,
   "id": "106bd10a",
   "metadata": {},
   "outputs": [
    {
     "data": {
      "text/plain": [
       "<AxesSubplot:xlabel='PRIX_NET'>"
      ]
     },
     "execution_count": 68,
     "metadata": {},
     "output_type": "execute_result"
    },
    {
     "data": {
      "image/png": "[encoded data removed]",
      "text/plain": [
       "<Figure size 1728x1152 with 1 Axes>"
      ]
     },
     "metadata": {
      "needs_background": "light"
     },
     "output_type": "display_data"
    }
   ],
   "source": [
    "fig, ax = plt.subplots(figsize=(24,16))\n",
    "sns.boxplot(data=parfum, x=\"PRIX_NET\", ax=ax, orient=\"h\")"
   ]
  }
 ],
 "metadata": {
  "kernelspec": {
   "display_name": "Python 3 (ipykernel)",
   "language": "python",
   "name": "python3"
  },
  "language_info": {
   "codemirror_mode": {
    "name": "ipython",
    "version": 3
   },
   "file_extension": ".py",
   "mimetype": "text/x-python",
   "name": "python",
   "nbconvert_exporter": "python",
   "pygments_lexer": "ipython3",
   "version": "3.9.12"
  }
 },
 "nbformat": 4,
 "nbformat_minor": 5
}
